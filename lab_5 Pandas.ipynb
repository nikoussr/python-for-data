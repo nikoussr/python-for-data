{
  "cells": [
    {
      "cell_type": "markdown",
      "metadata": {
        "id": "hSA1kgiKvrTG"
      },
      "source": [
        "# Лабораторная работа 5. Библиотека Pandas"
      ]
    },
    {
      "cell_type": "code",
      "execution_count": null,
      "metadata": {
        "id": "W1M6Kfo6vrTM"
      },
      "outputs": [],
      "source": [
        "import pandas as pd"
      ]
    },
    {
      "cell_type": "markdown",
      "metadata": {
        "id": "6KkCjdKUsHIr"
      },
      "source": [
        "## Считываем файл в DataFrame\n",
        "\n"
      ]
    },
    {
      "cell_type": "markdown",
      "metadata": {
        "id": "7i9lF5_psUxD"
      },
      "source": [
        "1. Считайте данные из файла cars_moldova.csv в датафрейм df и выведите его содержимое в консоль\n",
        "\n",
        "    Набор данных представляет собой статистику параметров автомобилей на вторичном рынке в Молдавии."
      ]
    },
    {
      "cell_type": "code",
      "execution_count": null,
      "metadata": {
        "id": "LZQnNZzkyakR",
        "colab": {
          "base_uri": "https://localhost:8080/"
        },
        "outputId": "dace7063-c5c2-41eb-9574-e93c24715a4b"
      },
      "outputs": [
        {
          "output_type": "stream",
          "name": "stdout",
          "text": [
            "             Make         Model  Year      Style  Distance  \\\n",
            "0          Toyota         Prius  2011  Hatchback  195000.0   \n",
            "1         Renault  Grand Scenic  2014  Universal  135000.0   \n",
            "2      Volkswagen          Golf  1998  Hatchback       1.0   \n",
            "3         Renault        Laguna  2012  Universal  110000.0   \n",
            "4            Opel         Astra  2006  Universal  200000.0   \n",
            "...           ...           ...   ...        ...       ...   \n",
            "37259  Land Rover    Freelander  2002  Crossover  225000.0   \n",
            "37260       Dacia     Logan Mcv  2015  Universal   89000.0   \n",
            "37261     Renault         Modus  2009  Hatchback     225.0   \n",
            "37262       Mazda             6  2006      Combi  370000.0   \n",
            "37263     Renault  Grand Scenic  2006    Minivan  300000.0   \n",
            "\n",
            "       Engine_capacity(cm3)     Fuel_type Transmission  Price(euro)  \n",
            "0                    1800.0        Hybrid    Automatic       7750.0  \n",
            "1                    1500.0        Diesel       Manual       8550.0  \n",
            "2                    1400.0        Petrol       Manual       2200.0  \n",
            "3                    1500.0        Diesel       Manual       6550.0  \n",
            "4                    1600.0  Metan/Propan       Manual       4100.0  \n",
            "...                     ...           ...          ...          ...  \n",
            "37259                1800.0  Metan/Propan       Manual       4400.0  \n",
            "37260                1500.0        Diesel       Manual       7000.0  \n",
            "37261                1500.0        Diesel       Manual       4500.0  \n",
            "37262                2000.0        Diesel       Manual       4000.0  \n",
            "37263                1500.0        Diesel       Manual       4000.0  \n",
            "\n",
            "[37264 rows x 9 columns]\n"
          ]
        }
      ],
      "source": [
        "try:\n",
        "    df = pd.read_csv(\"cars_moldova.csv\")\n",
        "    df = pd.DataFrame(df)\n",
        "    print(df)\n",
        "except FileNotFoundError:\n",
        "    print(\"Файл не найден\")\n",
        "    exit()"
      ]
    },
    {
      "cell_type": "markdown",
      "metadata": {
        "id": "M5CwtPtIr-P7"
      },
      "source": [
        "## Информация о DataFrame\n"
      ]
    },
    {
      "cell_type": "markdown",
      "metadata": {
        "id": "vIttjv5S2xDi"
      },
      "source": [
        "2. Выведите на экран подробную информацию о df, используя метод `.info()`"
      ]
    },
    {
      "cell_type": "code",
      "execution_count": null,
      "metadata": {
        "colab": {
          "base_uri": "https://localhost:8080/"
        },
        "id": "_88-hF07r50q",
        "outputId": "61025063-87c4-498b-f8c0-8c04750d490c"
      },
      "outputs": [
        {
          "output_type": "stream",
          "name": "stdout",
          "text": [
            "<class 'pandas.core.frame.DataFrame'>\n",
            "RangeIndex: 37264 entries, 0 to 37263\n",
            "Data columns (total 9 columns):\n",
            " #   Column                Non-Null Count  Dtype  \n",
            "---  ------                --------------  -----  \n",
            " 0   Make                  37264 non-null  object \n",
            " 1   Model                 37264 non-null  object \n",
            " 2   Year                  37264 non-null  int64  \n",
            " 3   Style                 37264 non-null  object \n",
            " 4   Distance              37264 non-null  float64\n",
            " 5   Engine_capacity(cm3)  37264 non-null  float64\n",
            " 6   Fuel_type             37264 non-null  object \n",
            " 7   Transmission          37264 non-null  object \n",
            " 8   Price(euro)           37264 non-null  float64\n",
            "dtypes: float64(3), int64(1), object(5)\n",
            "memory usage: 2.6+ MB\n",
            "None\n"
          ]
        }
      ],
      "source": [
        "print(df.info())"
      ]
    },
    {
      "cell_type": "markdown",
      "metadata": {
        "id": "tgaRDtivsfT4"
      },
      "source": [
        "## Поиск Дубликатов\n"
      ]
    },
    {
      "cell_type": "markdown",
      "metadata": {
        "id": "wNX4bni124SM"
      },
      "source": [
        "3. Выведите на экран количество строк-дубликатов df (используйте метод `.duplicated()` и функцию `.sum()`)"
      ]
    },
    {
      "cell_type": "code",
      "execution_count": null,
      "metadata": {
        "colab": {
          "base_uri": "https://localhost:8080/"
        },
        "id": "55fptij5sgUQ",
        "outputId": "d8033b34-4b75-4e0a-c4fb-161ba6144e43"
      },
      "outputs": [
        {
          "output_type": "stream",
          "name": "stdout",
          "text": [
            "0\n"
          ]
        }
      ],
      "source": [
        "print (df.duplicated().sum())"
      ]
    },
    {
      "cell_type": "markdown",
      "metadata": {
        "id": "Nudt51N3tp8B"
      },
      "source": [
        "4. Удалите дубликаты в df и обновите индексы (используйте метод `.drop_duplicates()`)"
      ]
    },
    {
      "cell_type": "code",
      "execution_count": null,
      "metadata": {
        "colab": {
          "base_uri": "https://localhost:8080/",
          "height": 424
        },
        "id": "KdxRhTsbvrTP",
        "outputId": "c7c89768-3f86-4ceb-f7fb-7692ed006714",
        "scrolled": false
      },
      "outputs": [
        {
          "output_type": "execute_result",
          "data": {
            "text/plain": [
              "             Make         Model  Year      Style  Distance  \\\n",
              "0          Toyota         Prius  2011  Hatchback  195000.0   \n",
              "1         Renault  Grand Scenic  2014  Universal  135000.0   \n",
              "2      Volkswagen          Golf  1998  Hatchback       1.0   \n",
              "3         Renault        Laguna  2012  Universal  110000.0   \n",
              "4            Opel         Astra  2006  Universal  200000.0   \n",
              "...           ...           ...   ...        ...       ...   \n",
              "37259  Land Rover    Freelander  2002  Crossover  225000.0   \n",
              "37260       Dacia     Logan Mcv  2015  Universal   89000.0   \n",
              "37261     Renault         Modus  2009  Hatchback     225.0   \n",
              "37262       Mazda             6  2006      Combi  370000.0   \n",
              "37263     Renault  Grand Scenic  2006    Minivan  300000.0   \n",
              "\n",
              "       Engine_capacity(cm3)     Fuel_type Transmission  Price(euro)  \n",
              "0                    1800.0        Hybrid    Automatic       7750.0  \n",
              "1                    1500.0        Diesel       Manual       8550.0  \n",
              "2                    1400.0        Petrol       Manual       2200.0  \n",
              "3                    1500.0        Diesel       Manual       6550.0  \n",
              "4                    1600.0  Metan/Propan       Manual       4100.0  \n",
              "...                     ...           ...          ...          ...  \n",
              "37259                1800.0  Metan/Propan       Manual       4400.0  \n",
              "37260                1500.0        Diesel       Manual       7000.0  \n",
              "37261                1500.0        Diesel       Manual       4500.0  \n",
              "37262                2000.0        Diesel       Manual       4000.0  \n",
              "37263                1500.0        Diesel       Manual       4000.0  \n",
              "\n",
              "[37264 rows x 9 columns]"
            ],
            "text/html": [
              "\n",
              "  <div id=\"df-5338d8c6-58e2-4759-b6a6-3b4e1c2ab925\" class=\"colab-df-container\">\n",
              "    <div>\n",
              "<style scoped>\n",
              "    .dataframe tbody tr th:only-of-type {\n",
              "        vertical-align: middle;\n",
              "    }\n",
              "\n",
              "    .dataframe tbody tr th {\n",
              "        vertical-align: top;\n",
              "    }\n",
              "\n",
              "    .dataframe thead th {\n",
              "        text-align: right;\n",
              "    }\n",
              "</style>\n",
              "<table border=\"1\" class=\"dataframe\">\n",
              "  <thead>\n",
              "    <tr style=\"text-align: right;\">\n",
              "      <th></th>\n",
              "      <th>Make</th>\n",
              "      <th>Model</th>\n",
              "      <th>Year</th>\n",
              "      <th>Style</th>\n",
              "      <th>Distance</th>\n",
              "      <th>Engine_capacity(cm3)</th>\n",
              "      <th>Fuel_type</th>\n",
              "      <th>Transmission</th>\n",
              "      <th>Price(euro)</th>\n",
              "    </tr>\n",
              "  </thead>\n",
              "  <tbody>\n",
              "    <tr>\n",
              "      <th>0</th>\n",
              "      <td>Toyota</td>\n",
              "      <td>Prius</td>\n",
              "      <td>2011</td>\n",
              "      <td>Hatchback</td>\n",
              "      <td>195000.0</td>\n",
              "      <td>1800.0</td>\n",
              "      <td>Hybrid</td>\n",
              "      <td>Automatic</td>\n",
              "      <td>7750.0</td>\n",
              "    </tr>\n",
              "    <tr>\n",
              "      <th>1</th>\n",
              "      <td>Renault</td>\n",
              "      <td>Grand Scenic</td>\n",
              "      <td>2014</td>\n",
              "      <td>Universal</td>\n",
              "      <td>135000.0</td>\n",
              "      <td>1500.0</td>\n",
              "      <td>Diesel</td>\n",
              "      <td>Manual</td>\n",
              "      <td>8550.0</td>\n",
              "    </tr>\n",
              "    <tr>\n",
              "      <th>2</th>\n",
              "      <td>Volkswagen</td>\n",
              "      <td>Golf</td>\n",
              "      <td>1998</td>\n",
              "      <td>Hatchback</td>\n",
              "      <td>1.0</td>\n",
              "      <td>1400.0</td>\n",
              "      <td>Petrol</td>\n",
              "      <td>Manual</td>\n",
              "      <td>2200.0</td>\n",
              "    </tr>\n",
              "    <tr>\n",
              "      <th>3</th>\n",
              "      <td>Renault</td>\n",
              "      <td>Laguna</td>\n",
              "      <td>2012</td>\n",
              "      <td>Universal</td>\n",
              "      <td>110000.0</td>\n",
              "      <td>1500.0</td>\n",
              "      <td>Diesel</td>\n",
              "      <td>Manual</td>\n",
              "      <td>6550.0</td>\n",
              "    </tr>\n",
              "    <tr>\n",
              "      <th>4</th>\n",
              "      <td>Opel</td>\n",
              "      <td>Astra</td>\n",
              "      <td>2006</td>\n",
              "      <td>Universal</td>\n",
              "      <td>200000.0</td>\n",
              "      <td>1600.0</td>\n",
              "      <td>Metan/Propan</td>\n",
              "      <td>Manual</td>\n",
              "      <td>4100.0</td>\n",
              "    </tr>\n",
              "    <tr>\n",
              "      <th>...</th>\n",
              "      <td>...</td>\n",
              "      <td>...</td>\n",
              "      <td>...</td>\n",
              "      <td>...</td>\n",
              "      <td>...</td>\n",
              "      <td>...</td>\n",
              "      <td>...</td>\n",
              "      <td>...</td>\n",
              "      <td>...</td>\n",
              "    </tr>\n",
              "    <tr>\n",
              "      <th>37259</th>\n",
              "      <td>Land Rover</td>\n",
              "      <td>Freelander</td>\n",
              "      <td>2002</td>\n",
              "      <td>Crossover</td>\n",
              "      <td>225000.0</td>\n",
              "      <td>1800.0</td>\n",
              "      <td>Metan/Propan</td>\n",
              "      <td>Manual</td>\n",
              "      <td>4400.0</td>\n",
              "    </tr>\n",
              "    <tr>\n",
              "      <th>37260</th>\n",
              "      <td>Dacia</td>\n",
              "      <td>Logan Mcv</td>\n",
              "      <td>2015</td>\n",
              "      <td>Universal</td>\n",
              "      <td>89000.0</td>\n",
              "      <td>1500.0</td>\n",
              "      <td>Diesel</td>\n",
              "      <td>Manual</td>\n",
              "      <td>7000.0</td>\n",
              "    </tr>\n",
              "    <tr>\n",
              "      <th>37261</th>\n",
              "      <td>Renault</td>\n",
              "      <td>Modus</td>\n",
              "      <td>2009</td>\n",
              "      <td>Hatchback</td>\n",
              "      <td>225.0</td>\n",
              "      <td>1500.0</td>\n",
              "      <td>Diesel</td>\n",
              "      <td>Manual</td>\n",
              "      <td>4500.0</td>\n",
              "    </tr>\n",
              "    <tr>\n",
              "      <th>37262</th>\n",
              "      <td>Mazda</td>\n",
              "      <td>6</td>\n",
              "      <td>2006</td>\n",
              "      <td>Combi</td>\n",
              "      <td>370000.0</td>\n",
              "      <td>2000.0</td>\n",
              "      <td>Diesel</td>\n",
              "      <td>Manual</td>\n",
              "      <td>4000.0</td>\n",
              "    </tr>\n",
              "    <tr>\n",
              "      <th>37263</th>\n",
              "      <td>Renault</td>\n",
              "      <td>Grand Scenic</td>\n",
              "      <td>2006</td>\n",
              "      <td>Minivan</td>\n",
              "      <td>300000.0</td>\n",
              "      <td>1500.0</td>\n",
              "      <td>Diesel</td>\n",
              "      <td>Manual</td>\n",
              "      <td>4000.0</td>\n",
              "    </tr>\n",
              "  </tbody>\n",
              "</table>\n",
              "<p>37264 rows × 9 columns</p>\n",
              "</div>\n",
              "    <div class=\"colab-df-buttons\">\n",
              "\n",
              "  <div class=\"colab-df-container\">\n",
              "    <button class=\"colab-df-convert\" onclick=\"convertToInteractive('df-5338d8c6-58e2-4759-b6a6-3b4e1c2ab925')\"\n",
              "            title=\"Convert this dataframe to an interactive table.\"\n",
              "            style=\"display:none;\">\n",
              "\n",
              "  <svg xmlns=\"http://www.w3.org/2000/svg\" height=\"24px\" viewBox=\"0 -960 960 960\">\n",
              "    <path d=\"M120-120v-720h720v720H120Zm60-500h600v-160H180v160Zm220 220h160v-160H400v160Zm0 220h160v-160H400v160ZM180-400h160v-160H180v160Zm440 0h160v-160H620v160ZM180-180h160v-160H180v160Zm440 0h160v-160H620v160Z\"/>\n",
              "  </svg>\n",
              "    </button>\n",
              "\n",
              "  <style>\n",
              "    .colab-df-container {\n",
              "      display:flex;\n",
              "      gap: 12px;\n",
              "    }\n",
              "\n",
              "    .colab-df-convert {\n",
              "      background-color: #E8F0FE;\n",
              "      border: none;\n",
              "      border-radius: 50%;\n",
              "      cursor: pointer;\n",
              "      display: none;\n",
              "      fill: #1967D2;\n",
              "      height: 32px;\n",
              "      padding: 0 0 0 0;\n",
              "      width: 32px;\n",
              "    }\n",
              "\n",
              "    .colab-df-convert:hover {\n",
              "      background-color: #E2EBFA;\n",
              "      box-shadow: 0px 1px 2px rgba(60, 64, 67, 0.3), 0px 1px 3px 1px rgba(60, 64, 67, 0.15);\n",
              "      fill: #174EA6;\n",
              "    }\n",
              "\n",
              "    .colab-df-buttons div {\n",
              "      margin-bottom: 4px;\n",
              "    }\n",
              "\n",
              "    [theme=dark] .colab-df-convert {\n",
              "      background-color: #3B4455;\n",
              "      fill: #D2E3FC;\n",
              "    }\n",
              "\n",
              "    [theme=dark] .colab-df-convert:hover {\n",
              "      background-color: #434B5C;\n",
              "      box-shadow: 0px 1px 3px 1px rgba(0, 0, 0, 0.15);\n",
              "      filter: drop-shadow(0px 1px 2px rgba(0, 0, 0, 0.3));\n",
              "      fill: #FFFFFF;\n",
              "    }\n",
              "  </style>\n",
              "\n",
              "    <script>\n",
              "      const buttonEl =\n",
              "        document.querySelector('#df-5338d8c6-58e2-4759-b6a6-3b4e1c2ab925 button.colab-df-convert');\n",
              "      buttonEl.style.display =\n",
              "        google.colab.kernel.accessAllowed ? 'block' : 'none';\n",
              "\n",
              "      async function convertToInteractive(key) {\n",
              "        const element = document.querySelector('#df-5338d8c6-58e2-4759-b6a6-3b4e1c2ab925');\n",
              "        const dataTable =\n",
              "          await google.colab.kernel.invokeFunction('convertToInteractive',\n",
              "                                                    [key], {});\n",
              "        if (!dataTable) return;\n",
              "\n",
              "        const docLinkHtml = 'Like what you see? Visit the ' +\n",
              "          '<a target=\"_blank\" href=https://colab.research.google.com/notebooks/data_table.ipynb>data table notebook</a>'\n",
              "          + ' to learn more about interactive tables.';\n",
              "        element.innerHTML = '';\n",
              "        dataTable['output_type'] = 'display_data';\n",
              "        await google.colab.output.renderOutput(dataTable, element);\n",
              "        const docLink = document.createElement('div');\n",
              "        docLink.innerHTML = docLinkHtml;\n",
              "        element.appendChild(docLink);\n",
              "      }\n",
              "    </script>\n",
              "  </div>\n",
              "\n",
              "\n",
              "<div id=\"df-87bd2c4e-5693-459e-9315-5e04dd7aa02a\">\n",
              "  <button class=\"colab-df-quickchart\" onclick=\"quickchart('df-87bd2c4e-5693-459e-9315-5e04dd7aa02a')\"\n",
              "            title=\"Suggest charts\"\n",
              "            style=\"display:none;\">\n",
              "\n",
              "<svg xmlns=\"http://www.w3.org/2000/svg\" height=\"24px\"viewBox=\"0 0 24 24\"\n",
              "     width=\"24px\">\n",
              "    <g>\n",
              "        <path d=\"M19 3H5c-1.1 0-2 .9-2 2v14c0 1.1.9 2 2 2h14c1.1 0 2-.9 2-2V5c0-1.1-.9-2-2-2zM9 17H7v-7h2v7zm4 0h-2V7h2v10zm4 0h-2v-4h2v4z\"/>\n",
              "    </g>\n",
              "</svg>\n",
              "  </button>\n",
              "\n",
              "<style>\n",
              "  .colab-df-quickchart {\n",
              "      --bg-color: #E8F0FE;\n",
              "      --fill-color: #1967D2;\n",
              "      --hover-bg-color: #E2EBFA;\n",
              "      --hover-fill-color: #174EA6;\n",
              "      --disabled-fill-color: #AAA;\n",
              "      --disabled-bg-color: #DDD;\n",
              "  }\n",
              "\n",
              "  [theme=dark] .colab-df-quickchart {\n",
              "      --bg-color: #3B4455;\n",
              "      --fill-color: #D2E3FC;\n",
              "      --hover-bg-color: #434B5C;\n",
              "      --hover-fill-color: #FFFFFF;\n",
              "      --disabled-bg-color: #3B4455;\n",
              "      --disabled-fill-color: #666;\n",
              "  }\n",
              "\n",
              "  .colab-df-quickchart {\n",
              "    background-color: var(--bg-color);\n",
              "    border: none;\n",
              "    border-radius: 50%;\n",
              "    cursor: pointer;\n",
              "    display: none;\n",
              "    fill: var(--fill-color);\n",
              "    height: 32px;\n",
              "    padding: 0;\n",
              "    width: 32px;\n",
              "  }\n",
              "\n",
              "  .colab-df-quickchart:hover {\n",
              "    background-color: var(--hover-bg-color);\n",
              "    box-shadow: 0 1px 2px rgba(60, 64, 67, 0.3), 0 1px 3px 1px rgba(60, 64, 67, 0.15);\n",
              "    fill: var(--button-hover-fill-color);\n",
              "  }\n",
              "\n",
              "  .colab-df-quickchart-complete:disabled,\n",
              "  .colab-df-quickchart-complete:disabled:hover {\n",
              "    background-color: var(--disabled-bg-color);\n",
              "    fill: var(--disabled-fill-color);\n",
              "    box-shadow: none;\n",
              "  }\n",
              "\n",
              "  .colab-df-spinner {\n",
              "    border: 2px solid var(--fill-color);\n",
              "    border-color: transparent;\n",
              "    border-bottom-color: var(--fill-color);\n",
              "    animation:\n",
              "      spin 1s steps(1) infinite;\n",
              "  }\n",
              "\n",
              "  @keyframes spin {\n",
              "    0% {\n",
              "      border-color: transparent;\n",
              "      border-bottom-color: var(--fill-color);\n",
              "      border-left-color: var(--fill-color);\n",
              "    }\n",
              "    20% {\n",
              "      border-color: transparent;\n",
              "      border-left-color: var(--fill-color);\n",
              "      border-top-color: var(--fill-color);\n",
              "    }\n",
              "    30% {\n",
              "      border-color: transparent;\n",
              "      border-left-color: var(--fill-color);\n",
              "      border-top-color: var(--fill-color);\n",
              "      border-right-color: var(--fill-color);\n",
              "    }\n",
              "    40% {\n",
              "      border-color: transparent;\n",
              "      border-right-color: var(--fill-color);\n",
              "      border-top-color: var(--fill-color);\n",
              "    }\n",
              "    60% {\n",
              "      border-color: transparent;\n",
              "      border-right-color: var(--fill-color);\n",
              "    }\n",
              "    80% {\n",
              "      border-color: transparent;\n",
              "      border-right-color: var(--fill-color);\n",
              "      border-bottom-color: var(--fill-color);\n",
              "    }\n",
              "    90% {\n",
              "      border-color: transparent;\n",
              "      border-bottom-color: var(--fill-color);\n",
              "    }\n",
              "  }\n",
              "</style>\n",
              "\n",
              "  <script>\n",
              "    async function quickchart(key) {\n",
              "      const quickchartButtonEl =\n",
              "        document.querySelector('#' + key + ' button');\n",
              "      quickchartButtonEl.disabled = true;  // To prevent multiple clicks.\n",
              "      quickchartButtonEl.classList.add('colab-df-spinner');\n",
              "      try {\n",
              "        const charts = await google.colab.kernel.invokeFunction(\n",
              "            'suggestCharts', [key], {});\n",
              "      } catch (error) {\n",
              "        console.error('Error during call to suggestCharts:', error);\n",
              "      }\n",
              "      quickchartButtonEl.classList.remove('colab-df-spinner');\n",
              "      quickchartButtonEl.classList.add('colab-df-quickchart-complete');\n",
              "    }\n",
              "    (() => {\n",
              "      let quickchartButtonEl =\n",
              "        document.querySelector('#df-87bd2c4e-5693-459e-9315-5e04dd7aa02a button');\n",
              "      quickchartButtonEl.style.display =\n",
              "        google.colab.kernel.accessAllowed ? 'block' : 'none';\n",
              "    })();\n",
              "  </script>\n",
              "</div>\n",
              "    </div>\n",
              "  </div>\n"
            ],
            "application/vnd.google.colaboratory.intrinsic+json": {
              "type": "dataframe",
              "summary": "{\n  \"name\": \"df\",\n  \"rows\": 37264,\n  \"fields\": [\n    {\n      \"column\": \"Make\",\n      \"properties\": {\n        \"dtype\": \"category\",\n        \"num_unique_values\": 87,\n        \"samples\": [\n          \"Zotye\",\n          \"Toyota\",\n          \"Subaru\"\n        ],\n        \"semantic_type\": \"\",\n        \"description\": \"\"\n      }\n    },\n    {\n      \"column\": \"Model\",\n      \"properties\": {\n        \"dtype\": \"category\",\n        \"num_unique_values\": 829,\n        \"samples\": [\n          \"X2\",\n          \"Patrol\",\n          \"Viano\"\n        ],\n        \"semantic_type\": \"\",\n        \"description\": \"\"\n      }\n    },\n    {\n      \"column\": \"Year\",\n      \"properties\": {\n        \"dtype\": \"number\",\n        \"std\": 8,\n        \"min\": 1900,\n        \"max\": 2021,\n        \"num_unique_values\": 75,\n        \"samples\": [\n          2006,\n          1965,\n          2007\n        ],\n        \"semantic_type\": \"\",\n        \"description\": \"\"\n      }\n    },\n    {\n      \"column\": \"Style\",\n      \"properties\": {\n        \"dtype\": \"category\",\n        \"num_unique_values\": 12,\n        \"samples\": [\n          \"Cabriolet\",\n          \"Combi\",\n          \"Hatchback\"\n        ],\n        \"semantic_type\": \"\",\n        \"description\": \"\"\n      }\n    },\n    {\n      \"column\": \"Distance\",\n      \"properties\": {\n        \"dtype\": \"number\",\n        \"std\": 4591520.096385878,\n        \"min\": 0.0,\n        \"max\": 100000000.0,\n        \"num_unique_values\": 8935,\n        \"samples\": [\n          122486.0,\n          260100.0,\n          112250.0\n        ],\n        \"semantic_type\": \"\",\n        \"description\": \"\"\n      }\n    },\n    {\n      \"column\": \"Engine_capacity(cm3)\",\n      \"properties\": {\n        \"dtype\": \"number\",\n        \"std\": 707.6627310537593,\n        \"min\": 0.0,\n        \"max\": 9999.0,\n        \"num_unique_values\": 724,\n        \"samples\": [\n          1365.0,\n          2671.0,\n          2157.0\n        ],\n        \"semantic_type\": \"\",\n        \"description\": \"\"\n      }\n    },\n    {\n      \"column\": \"Fuel_type\",\n      \"properties\": {\n        \"dtype\": \"category\",\n        \"num_unique_values\": 6,\n        \"samples\": [\n          \"Hybrid\",\n          \"Diesel\",\n          \"Plug-in Hybrid\"\n        ],\n        \"semantic_type\": \"\",\n        \"description\": \"\"\n      }\n    },\n    {\n      \"column\": \"Transmission\",\n      \"properties\": {\n        \"dtype\": \"category\",\n        \"num_unique_values\": 2,\n        \"samples\": [\n          \"Manual\",\n          \"Automatic\"\n        ],\n        \"semantic_type\": \"\",\n        \"description\": \"\"\n      }\n    },\n    {\n      \"column\": \"Price(euro)\",\n      \"properties\": {\n        \"dtype\": \"number\",\n        \"std\": 52833.15259949498,\n        \"min\": 1.0,\n        \"max\": 10000000.0,\n        \"num_unique_values\": 1824,\n        \"samples\": [\n          25555.0,\n          10249.0\n        ],\n        \"semantic_type\": \"\",\n        \"description\": \"\"\n      }\n    }\n  ]\n}"
            }
          },
          "metadata": {},
          "execution_count": 20
        }
      ],
      "source": [
        "df.drop_duplicates()\n",
        "df.reset_index(drop=True)"
      ]
    },
    {
      "cell_type": "markdown",
      "metadata": {
        "id": "wmxKqd9n29AG"
      },
      "source": [
        "## Индексация"
      ]
    },
    {
      "cell_type": "markdown",
      "metadata": {
        "id": "xqmW4k4VvQlB"
      },
      "source": [
        "5. Выведите первые 5 строк df"
      ]
    },
    {
      "cell_type": "code",
      "execution_count": null,
      "metadata": {
        "colab": {
          "base_uri": "https://localhost:8080/"
        },
        "id": "Qquz6I2huO0Y",
        "outputId": "6fbd7cd9-1773-40fa-875a-148062c0a236"
      },
      "outputs": [
        {
          "output_type": "stream",
          "name": "stdout",
          "text": [
            "         Make         Model  Year      Style  Distance  Engine_capacity(cm3)  \\\n",
            "0      Toyota         Prius  2011  Hatchback  195000.0                1800.0   \n",
            "1     Renault  Grand Scenic  2014  Universal  135000.0                1500.0   \n",
            "2  Volkswagen          Golf  1998  Hatchback       1.0                1400.0   \n",
            "3     Renault        Laguna  2012  Universal  110000.0                1500.0   \n",
            "4        Opel         Astra  2006  Universal  200000.0                1600.0   \n",
            "\n",
            "      Fuel_type Transmission  Price(euro)  \n",
            "0        Hybrid    Automatic       7750.0  \n",
            "1        Diesel       Manual       8550.0  \n",
            "2        Petrol       Manual       2200.0  \n",
            "3        Diesel       Manual       6550.0  \n",
            "4  Metan/Propan       Manual       4100.0  \n"
          ]
        }
      ],
      "source": [
        "print (df.head())"
      ]
    },
    {
      "cell_type": "markdown",
      "metadata": {
        "id": "ZCiYJU_ivjUP"
      },
      "source": [
        "6. Выведите последние 5 строк df"
      ]
    },
    {
      "cell_type": "code",
      "execution_count": null,
      "metadata": {
        "colab": {
          "base_uri": "https://localhost:8080/"
        },
        "id": "8i-lc4MeuQfF",
        "outputId": "2adfd03b-b13e-487a-9d12-d8c3692f132d"
      },
      "outputs": [
        {
          "output_type": "stream",
          "name": "stdout",
          "text": [
            "             Make         Model  Year      Style  Distance  \\\n",
            "37259  Land Rover    Freelander  2002  Crossover  225000.0   \n",
            "37260       Dacia     Logan Mcv  2015  Universal   89000.0   \n",
            "37261     Renault         Modus  2009  Hatchback     225.0   \n",
            "37262       Mazda             6  2006      Combi  370000.0   \n",
            "37263     Renault  Grand Scenic  2006    Minivan  300000.0   \n",
            "\n",
            "       Engine_capacity(cm3)     Fuel_type Transmission  Price(euro)  \n",
            "37259                1800.0  Metan/Propan       Manual       4400.0  \n",
            "37260                1500.0        Diesel       Manual       7000.0  \n",
            "37261                1500.0        Diesel       Manual       4500.0  \n",
            "37262                2000.0        Diesel       Manual       4000.0  \n",
            "37263                1500.0        Diesel       Manual       4000.0  \n"
          ]
        }
      ],
      "source": [
        "print(df.tail())"
      ]
    },
    {
      "cell_type": "markdown",
      "metadata": {
        "id": "Ds7wJvZJwKzR"
      },
      "source": [
        "7. Выведите значение ячейки df с индексом 124 в столбце 'Transmission'"
      ]
    },
    {
      "cell_type": "code",
      "execution_count": null,
      "metadata": {
        "colab": {
          "base_uri": "https://localhost:8080/"
        },
        "id": "PH4dsUSfwC4I",
        "outputId": "8314700c-4c16-4b9f-d59f-0ff19f106a55"
      },
      "outputs": [
        {
          "output_type": "stream",
          "name": "stdout",
          "text": [
            "Make                      Renault\n",
            "Model                      Megane\n",
            "Year                         2010\n",
            "Style                   Universal\n",
            "Distance                 257110.0\n",
            "Engine_capacity(cm3)       1500.0\n",
            "Fuel_type                  Diesel\n",
            "Transmission               Manual\n",
            "Price(euro)                4999.0\n",
            "Name: 124, dtype: object\n"
          ]
        }
      ],
      "source": [
        "transmission_value = df.loc[124, 'Transmission']\n",
        "print(transmission_value)"
      ]
    },
    {
      "cell_type": "markdown",
      "metadata": {
        "id": "HPdpm08QsUxI"
      },
      "source": [
        "8. Выведите первые 5 значений cтолбцов df с 'Make' до 'Style'"
      ]
    },
    {
      "cell_type": "code",
      "execution_count": null,
      "metadata": {
        "colab": {
          "base_uri": "https://localhost:8080/"
        },
        "id": "b0ywiqzQwCwu",
        "outputId": "79f3795b-4db0-4156-acf7-fb6449bad84d"
      },
      "outputs": [
        {
          "output_type": "stream",
          "name": "stdout",
          "text": [
            "Make          Renault\n",
            "Model    Grand Scenic\n",
            "Year             2014\n",
            "Style       Universal\n",
            "Name: 1, dtype: object\n"
          ]
        }
      ],
      "source": [
        "print(df.loc[1, 'Make':'Style'])"
      ]
    },
    {
      "cell_type": "markdown",
      "metadata": {
        "id": "jtX-Kh1k3MkJ"
      },
      "source": [
        "**Логическое Индексирование**"
      ]
    },
    {
      "cell_type": "markdown",
      "metadata": {
        "id": "lNNTlikdsUxJ"
      },
      "source": [
        "9. Выведите машины с мануальной трансмиссией (Transmission = Manual)"
      ]
    },
    {
      "cell_type": "code",
      "execution_count": null,
      "metadata": {
        "colab": {
          "base_uri": "https://localhost:8080/"
        },
        "id": "mSo58mmN3XT_",
        "outputId": "6c85d725-2ea8-4002-ad40-66f97f0920f3"
      },
      "outputs": [
        {
          "output_type": "stream",
          "name": "stdout",
          "text": [
            "20723\n",
            "             Make         Model  Year      Style  Distance  \\\n",
            "1         Renault  Grand Scenic  2014  Universal  135000.0   \n",
            "2      Volkswagen          Golf  1998  Hatchback       1.0   \n",
            "3         Renault        Laguna  2012  Universal  110000.0   \n",
            "4            Opel         Astra  2006  Universal  200000.0   \n",
            "5        Mercedes          Vito  2000   Microvan  300000.0   \n",
            "...           ...           ...   ...        ...       ...   \n",
            "37259  Land Rover    Freelander  2002  Crossover  225000.0   \n",
            "37260       Dacia     Logan Mcv  2015  Universal   89000.0   \n",
            "37261     Renault         Modus  2009  Hatchback     225.0   \n",
            "37262       Mazda             6  2006      Combi  370000.0   \n",
            "37263     Renault  Grand Scenic  2006    Minivan  300000.0   \n",
            "\n",
            "       Engine_capacity(cm3)     Fuel_type Transmission  Price(euro)  \n",
            "1                    1500.0        Diesel       Manual       8550.0  \n",
            "2                    1400.0        Petrol       Manual       2200.0  \n",
            "3                    1500.0        Diesel       Manual       6550.0  \n",
            "4                    1600.0  Metan/Propan       Manual       4100.0  \n",
            "5                    2200.0        Diesel       Manual       3490.0  \n",
            "...                     ...           ...          ...          ...  \n",
            "37259                1800.0  Metan/Propan       Manual       4400.0  \n",
            "37260                1500.0        Diesel       Manual       7000.0  \n",
            "37261                1500.0        Diesel       Manual       4500.0  \n",
            "37262                2000.0        Diesel       Manual       4000.0  \n",
            "37263                1500.0        Diesel       Manual       4000.0  \n",
            "\n",
            "[20723 rows x 9 columns]\n"
          ]
        }
      ],
      "source": [
        "cars = df[df['Transmission'] == 'Manual']\n",
        "print((df[\"Transmission\"] == \"Manual\").sum())\n",
        "print (cars)"
      ]
    },
    {
      "cell_type": "markdown",
      "metadata": {
        "id": "PDOTX29NsUxJ"
      },
      "source": [
        "9. Выведите все машины с мануальной трансмиссией и годом выпуска (Year) после 2000 года"
      ]
    },
    {
      "cell_type": "code",
      "execution_count": null,
      "metadata": {
        "colab": {
          "base_uri": "https://localhost:8080/"
        },
        "id": "eU-tE4kdkaRI",
        "outputId": "dd3dfd98-e2b2-440d-957f-1777e7d48a64"
      },
      "outputs": [
        {
          "output_type": "stream",
          "name": "stdout",
          "text": [
            "             Make         Model  Year      Style  Distance  \\\n",
            "1         Renault  Grand Scenic  2014  Universal  135000.0   \n",
            "3         Renault        Laguna  2012  Universal  110000.0   \n",
            "4            Opel         Astra  2006  Universal  200000.0   \n",
            "6      Volkswagen        Passat  2010  Universal  290000.0   \n",
            "9             BMW      5 Series  2004      Sedan  325000.0   \n",
            "...           ...           ...   ...        ...       ...   \n",
            "37259  Land Rover    Freelander  2002  Crossover  225000.0   \n",
            "37260       Dacia     Logan Mcv  2015  Universal   89000.0   \n",
            "37261     Renault         Modus  2009  Hatchback     225.0   \n",
            "37262       Mazda             6  2006      Combi  370000.0   \n",
            "37263     Renault  Grand Scenic  2006    Minivan  300000.0   \n",
            "\n",
            "       Engine_capacity(cm3)     Fuel_type Transmission  Price(euro)  \n",
            "1                    1500.0        Diesel       Manual       8550.0  \n",
            "3                    1500.0        Diesel       Manual       6550.0  \n",
            "4                    1600.0  Metan/Propan       Manual       4100.0  \n",
            "6                    1390.0        Petrol       Manual       5600.0  \n",
            "9                     300.0        Diesel       Manual       3400.0  \n",
            "...                     ...           ...          ...          ...  \n",
            "37259                1800.0  Metan/Propan       Manual       4400.0  \n",
            "37260                1500.0        Diesel       Manual       7000.0  \n",
            "37261                1500.0        Diesel       Manual       4500.0  \n",
            "37262                2000.0        Diesel       Manual       4000.0  \n",
            "37263                1500.0        Diesel       Manual       4000.0  \n",
            "\n",
            "[15562 rows x 9 columns]\n"
          ]
        }
      ],
      "source": [
        "manual_cars_after_2000 = df[(df['Transmission'] == 'Manual') & (df['Year'] > 2000)]\n",
        "print(manual_cars_after_2000)\n"
      ]
    },
    {
      "cell_type": "markdown",
      "metadata": {
        "id": "38ZDGJdevzbu"
      },
      "source": [
        "## Сортировка DataFrame\n",
        "\n"
      ]
    },
    {
      "cell_type": "markdown",
      "metadata": {
        "id": "ygzh0pM3sUxK"
      },
      "source": [
        "Метод `.sort_values(by)`\n",
        "\n",
        "`by` - по какой колонке сортируем"
      ]
    },
    {
      "cell_type": "markdown",
      "metadata": {
        "id": "WhmSgMzY3Hd5"
      },
      "source": [
        "10. Отсортируйте df по цене (Price(euro)) (по возрастанию)"
      ]
    },
    {
      "cell_type": "code",
      "execution_count": null,
      "metadata": {
        "colab": {
          "base_uri": "https://localhost:8080/"
        },
        "id": "OopAUEEauZD6",
        "outputId": "74a8b95e-2cff-482d-e9cc-0b1faa6cccd3"
      },
      "outputs": [
        {
          "output_type": "stream",
          "name": "stdout",
          "text": [
            "             Make               Model  Year      Style   Distance  \\\n",
            "18658        Opel            Frontera  1999        SUV      296.0   \n",
            "19867    Mercedes       Series (W124)  1989  Universal     1111.0   \n",
            "5077         Audi                  A6  2004  Universal    12345.0   \n",
            "14463  Alta marca           Alt model  1997  Crossover  1999922.0   \n",
            "14547         Vaz              Altele  1989  Universal   199888.0   \n",
            "...           ...                 ...   ...        ...        ...   \n",
            "13131      Toyota  Land Cruiser Prado  2012        SUV    10005.0   \n",
            "14834  Volkswagen               Caddy  2015      Combi   158260.0   \n",
            "29132    Mercedes             G Class  2020        SUV     3000.0   \n",
            "17849         KIA            Sportage  2018  Crossover    46000.0   \n",
            "33677  Brilliance                 BS3  2009      Sedan    57000.0   \n",
            "\n",
            "       Engine_capacity(cm3)     Fuel_type Transmission  Price(euro)  \n",
            "18658                2200.0        Diesel    Automatic          1.0  \n",
            "19867                3000.0        Diesel    Automatic          1.0  \n",
            "5077                 2500.0        Diesel       Manual          1.0  \n",
            "14463                1600.0        Petrol       Manual          5.0  \n",
            "14547                1300.0        Petrol       Manual          5.0  \n",
            "...                     ...           ...          ...          ...  \n",
            "13131                3000.0        Diesel    Automatic     200000.0  \n",
            "14834                1395.0  Metan/Propan       Manual     200000.0  \n",
            "29132                3982.0        Petrol    Automatic     215000.0  \n",
            "17849                1600.0        Petrol    Automatic     490000.0  \n",
            "33677                1598.0        Petrol       Manual   10000000.0  \n",
            "\n",
            "[37264 rows x 9 columns]\n"
          ]
        }
      ],
      "source": [
        "print (df.sort_values(by=\"Price(euro)\"))"
      ]
    },
    {
      "cell_type": "markdown",
      "metadata": {
        "id": "hWZy_e0Hv9JW"
      },
      "source": [
        "11. Отсортируйте df по году выпуска (Year) (по убыванию)"
      ]
    },
    {
      "cell_type": "code",
      "execution_count": null,
      "metadata": {
        "colab": {
          "base_uri": "https://localhost:8080/"
        },
        "id": "cv33vgtfu_MH",
        "outputId": "a3aa3e91-a11c-4073-f238-89a42bd68108"
      },
      "outputs": [
        {
          "output_type": "stream",
          "name": "stdout",
          "text": [
            "             Make      Model  Year      Style    Distance  \\\n",
            "29164        Audi         A5  2021      Sedan       661.0   \n",
            "32583    Mercedes  GLS Klass  2021        SUV         0.0   \n",
            "15611  Volkswagen       Polo  2021  Universal    280000.0   \n",
            "6044        Skoda     Superb  2021      Sedan         0.0   \n",
            "11840      Toyota    Corolla  2021  Universal       288.0   \n",
            "...           ...        ...   ...        ...         ...   \n",
            "22488        Audi         80  1900      Sedan         0.0   \n",
            "37134       Mazda        323  1900      Sedan    145000.0   \n",
            "27647         Vaz       2108  1900  Universal  57885658.0   \n",
            "36443      Toyota     Carina  1900      Sedan      2200.0   \n",
            "36363        Opel     Vectra  1900      Sedan    162000.0   \n",
            "\n",
            "       Engine_capacity(cm3) Fuel_type Transmission  Price(euro)  \n",
            "29164                2000.0    Petrol    Automatic      32200.0  \n",
            "32583                3000.0    Diesel    Automatic     107528.0  \n",
            "15611                1400.0    Petrol       Manual       1900.0  \n",
            "6044                 1500.0    Petrol    Automatic      30000.0  \n",
            "11840                1987.0    Hybrid    Automatic      23000.0  \n",
            "...                     ...       ...          ...          ...  \n",
            "22488                1000.0    Petrol       Manual       1500.0  \n",
            "37134                1800.0    Petrol       Manual       1450.0  \n",
            "27647                 889.0    Petrol       Manual       3500.0  \n",
            "36443                1800.0    Petrol       Manual       1600.0  \n",
            "36363                2000.0    Petrol       Manual       1000.0  \n",
            "\n",
            "[37264 rows x 9 columns]\n"
          ]
        }
      ],
      "source": [
        "print(df.sort_values(by= \"Year\", ascending=0))"
      ]
    },
    {
      "cell_type": "markdown",
      "metadata": {
        "id": "tCHlpPaUdoH3"
      },
      "source": [
        "12. Отсортируйте df по цене (Price(euro)) (по возрастанию) и по рабочему объему двигателя (Engine_capacity(cm3)) (по убыванию)"
      ]
    },
    {
      "cell_type": "code",
      "execution_count": null,
      "metadata": {
        "colab": {
          "base_uri": "https://localhost:8080/"
        },
        "id": "6PAPyIxadtCf",
        "outputId": "036bc30b-7323-4685-dc95-67ba32f8a4f2"
      },
      "outputs": [
        {
          "output_type": "stream",
          "name": "stdout",
          "text": [
            "             Make               Model  Year      Style   Distance  \\\n",
            "19867    Mercedes       Series (W124)  1989  Universal     1111.0   \n",
            "5077         Audi                  A6  2004  Universal    12345.0   \n",
            "18658        Opel            Frontera  1999        SUV      296.0   \n",
            "14463  Alta marca           Alt model  1997  Crossover  1999922.0   \n",
            "14478  Alta marca           Alt model  1992      Sedan   192222.0   \n",
            "...           ...                 ...   ...        ...        ...   \n",
            "13131      Toyota  Land Cruiser Prado  2012        SUV    10005.0   \n",
            "14834  Volkswagen               Caddy  2015      Combi   158260.0   \n",
            "29132    Mercedes             G Class  2020        SUV     3000.0   \n",
            "17849         KIA            Sportage  2018  Crossover    46000.0   \n",
            "33677  Brilliance                 BS3  2009      Sedan    57000.0   \n",
            "\n",
            "       Engine_capacity(cm3)     Fuel_type Transmission  Price(euro)  \n",
            "19867                3000.0        Diesel    Automatic          1.0  \n",
            "5077                 2500.0        Diesel       Manual          1.0  \n",
            "18658                2200.0        Diesel    Automatic          1.0  \n",
            "14463                1600.0        Petrol       Manual          5.0  \n",
            "14478                1300.0        Petrol       Manual          5.0  \n",
            "...                     ...           ...          ...          ...  \n",
            "13131                3000.0        Diesel    Automatic     200000.0  \n",
            "14834                1395.0  Metan/Propan       Manual     200000.0  \n",
            "29132                3982.0        Petrol    Automatic     215000.0  \n",
            "17849                1600.0        Petrol    Automatic     490000.0  \n",
            "33677                1598.0        Petrol       Manual   10000000.0  \n",
            "\n",
            "[37264 rows x 9 columns]\n"
          ]
        }
      ],
      "source": [
        "print(df.sort_values([\"Price(euro)\", \"Engine_capacity(cm3)\"], ascending=[1, 0]))"
      ]
    },
    {
      "cell_type": "markdown",
      "metadata": {
        "id": "nS3EWe49sUxL"
      },
      "source": [
        "## Анализ признаков"
      ]
    },
    {
      "cell_type": "markdown",
      "metadata": {
        "id": "7TlqMuwtvrTW"
      },
      "source": [
        "13. Создайте список с именами столбцов категориальных данных df (тип данных object) и список с именами столбцов числовых данных df"
      ]
    },
    {
      "cell_type": "code",
      "execution_count": null,
      "metadata": {
        "colab": {
          "base_uri": "https://localhost:8080/"
        },
        "id": "bGkYQ1wQvrTX",
        "outputId": "44406734-8293-4305-c5e1-d5d68657c777",
        "scrolled": true
      },
      "outputs": [
        {
          "output_type": "stream",
          "name": "stdout",
          "text": [
            "['Make', 'Model', 'Style', 'Fuel_type', 'Transmission']\n",
            "['Year', 'Distance', 'Engine_capacity(cm3)', 'Price(euro)']\n"
          ]
        }
      ],
      "source": [
        "cat_columns = [] #  список для имен столбцов категориальных данных\n",
        "num_columns = [] #  список для имен столбцов числовых данных\n",
        "\n",
        "\n",
        "cat_columns = df.select_dtypes(include=['object']).columns.tolist()\n",
        "num_columns = df.select_dtypes(include=['number']).columns.tolist()\n",
        "\n",
        "print (cat_columns)\n",
        "print (num_columns)"
      ]
    },
    {
      "cell_type": "markdown",
      "metadata": {
        "id": "6pguhYDIsUxM"
      },
      "source": [
        "### Числовые признаки"
      ]
    },
    {
      "cell_type": "markdown",
      "metadata": {
        "id": "xIMro2EchGST"
      },
      "source": [
        "14. Выведите статистические параметры по численным признакам, используя метод `.describe()`\n"
      ]
    },
    {
      "cell_type": "code",
      "execution_count": null,
      "metadata": {
        "colab": {
          "base_uri": "https://localhost:8080/"
        },
        "id": "1ysIQW5RhFjY",
        "outputId": "875702db-52f4-4746-b8b0-f8a4e613cae5"
      },
      "outputs": [
        {
          "output_type": "stream",
          "name": "stdout",
          "text": [
            "               Year      Distance  Engine_capacity(cm3)   Price(euro)\n",
            "count  37264.000000  3.726400e+04          37264.000000  3.726400e+04\n",
            "mean    2007.709264  4.758488e+05           1858.932535  9.569387e+03\n",
            "std        8.295806  4.591520e+06            707.662731  5.283315e+04\n",
            "min     1900.000000  0.000000e+00              0.000000  1.000000e+00\n",
            "25%     2004.000000  9.000000e+04           1499.000000  3.300000e+03\n",
            "50%     2009.000000  1.700000e+05           1800.000000  6.490000e+03\n",
            "75%     2014.000000  2.300000e+05           2000.000000  1.179900e+04\n",
            "max     2021.000000  1.000000e+08           9999.000000  1.000000e+07\n"
          ]
        }
      ],
      "source": [
        "print(df.describe())"
      ]
    },
    {
      "cell_type": "markdown",
      "metadata": {
        "id": "v65j22F292KS"
      },
      "source": [
        "15. Выведите средние значения численных признаков для автоматической и мануальной трансмиссий (используйте метод `.groupby()`)"
      ]
    },
    {
      "cell_type": "code",
      "execution_count": null,
      "metadata": {
        "colab": {
          "base_uri": "https://localhost:8080/"
        },
        "id": "1Zg-w30E91mp",
        "outputId": "f90eb936-228d-4e3f-d27f-b7165e93c7e2"
      },
      "outputs": [
        {
          "output_type": "stream",
          "name": "stdout",
          "text": [
            "                     Year       Distance  Engine_capacity(cm3)   Price(euro)\n",
            "Transmission                                                                \n",
            "Automatic     2011.170788  267131.045584           2136.525966  14657.392358\n",
            "Manual        2004.946292  642446.333784           1637.358780   5508.166144\n"
          ]
        }
      ],
      "source": [
        "print(df.groupby(\"Transmission\")[num_columns].mean())"
      ]
    },
    {
      "cell_type": "markdown",
      "metadata": {
        "id": "8ahdiCykvrTm"
      },
      "source": [
        "16. Выведите таблицу корреляции числовых признаков (используйте метод `.corr()`)"
      ]
    },
    {
      "cell_type": "code",
      "execution_count": null,
      "metadata": {
        "colab": {
          "base_uri": "https://localhost:8080/"
        },
        "id": "75P2NNiPvrTn",
        "outputId": "0c86ace6-935c-4d4b-f235-482f96bf4ae4",
        "scrolled": true
      },
      "outputs": [
        {
          "output_type": "stream",
          "name": "stdout",
          "text": [
            "                          Year  Distance  Engine_capacity(cm3)  Price(euro)\n",
            "Year                  1.000000 -0.084072             -0.016698     0.094408\n",
            "Distance             -0.084072  1.000000             -0.014209    -0.008938\n",
            "Engine_capacity(cm3) -0.016698 -0.014209              1.000000     0.063152\n",
            "Price(euro)           0.094408 -0.008938              0.063152     1.000000\n"
          ]
        }
      ],
      "source": [
        "print (df[num_columns].corr())"
      ]
    },
    {
      "cell_type": "markdown",
      "metadata": {
        "id": "CgjNyjwuvrTp"
      },
      "source": [
        "### Категориальные данные"
      ]
    },
    {
      "cell_type": "markdown",
      "metadata": {
        "id": "V2xl31dPsUxP"
      },
      "source": [
        "17. Выведите количество уникальных значений для каждого категориального столбца с помощью метода `.nunique()`"
      ]
    },
    {
      "cell_type": "code",
      "execution_count": null,
      "metadata": {
        "colab": {
          "base_uri": "https://localhost:8080/"
        },
        "id": "cZIAJQeKcsr3",
        "outputId": "d0d817cb-2dcd-4e57-e9f2-6a2d1da6729d"
      },
      "outputs": [
        {
          "output_type": "stream",
          "name": "stdout",
          "text": [
            "Make             45\n",
            "Model           829\n",
            "Style            12\n",
            "Fuel_type         6\n",
            "Transmission      2\n",
            "dtype: int64\n"
          ]
        }
      ],
      "source": [
        "print (df[cat_columns].nunique())"
      ]
    },
    {
      "cell_type": "markdown",
      "metadata": {
        "id": "ip2g7WfRisw_"
      },
      "source": [
        "18. Выведите, сколько раз встречается значение каждой категории столбца 'Make' с помощью метода `value_counts()`\n",
        "\n",
        "    Назовите полученный датафрейм 'counts'"
      ]
    },
    {
      "cell_type": "code",
      "execution_count": null,
      "metadata": {
        "colab": {
          "base_uri": "https://localhost:8080/"
        },
        "id": "YHW39Hwcicse",
        "outputId": "c7848726-e9e1-4db5-adfc-6bec731ae8e7"
      },
      "outputs": [
        {
          "output_type": "stream",
          "name": "stdout",
          "text": [
            "Make\n",
            "Volkswagen        3953\n",
            "Mercedes          3501\n",
            "Toyota            3427\n",
            "BMW               2998\n",
            "Renault           2685\n",
            "Opel              2220\n",
            "Skoda             1892\n",
            "Audi              1786\n",
            "Ford              1527\n",
            "Dacia             1524\n",
            "Nissan            1464\n",
            "Hyundai           1341\n",
            "Honda             1029\n",
            "KIA                750\n",
            "Mitsubishi         729\n",
            "Vaz                654\n",
            "Lexus              651\n",
            "Volvo              636\n",
            "Mazda              539\n",
            "Peugeot            469\n",
            "Chevrolet          365\n",
            "Rare               346\n",
            "Citroen            337\n",
            "Land Rover         313\n",
            "Seat               286\n",
            "Fiat               237\n",
            "Porsche            204\n",
            "Suzuki             176\n",
            "Subaru             171\n",
            "Rover              115\n",
            "Chrysler            97\n",
            "Jeep                94\n",
            "GAZ                 82\n",
            "Daewoo              79\n",
            "Mini                76\n",
            "Infiniti            72\n",
            "Jaguar              71\n",
            "Dodge               66\n",
            "Lincoln             57\n",
            "Moskvich / Izh      51\n",
            "Alfa Romeo          46\n",
            "Smart               42\n",
            "UAZ                 41\n",
            "Ssangyong           34\n",
            "Daihatsu            31\n",
            "Name: count, dtype: int64\n"
          ]
        }
      ],
      "source": [
        "counts = df['Make'].value_counts()\n",
        "print(counts)"
      ]
    },
    {
      "cell_type": "markdown",
      "metadata": {
        "id": "F3qkcPgqvrTt"
      },
      "source": [
        "Часть наших признаков имеют слишком много записей. Редкие из них можно исключить без потери точности.\n",
        "\n",
        "Сделаем эту операцию объявив такие записи одним типом - rare.\n",
        "\n"
      ]
    },
    {
      "cell_type": "markdown",
      "metadata": {
        "id": "vReOMY3ysUxQ"
      },
      "source": [
        "19. Посчитайте медиану встречаемости категорий counts (метод `.median()`)"
      ]
    },
    {
      "cell_type": "code",
      "execution_count": null,
      "metadata": {
        "colab": {
          "base_uri": "https://localhost:8080/"
        },
        "id": "bjs2TBP6qpaY",
        "outputId": "4112b5b1-3e19-48cf-d279-41d2f4da2c2d"
      },
      "outputs": [
        {
          "output_type": "stream",
          "name": "stdout",
          "text": [
            "337.0\n"
          ]
        }
      ],
      "source": [
        "median_count = counts.median()\n",
        "print(median_count)"
      ]
    },
    {
      "cell_type": "markdown",
      "metadata": {
        "id": "lA3ewysosUxQ"
      },
      "source": [
        "20. Замените в столбце 'Make' датафрейма df категории, которые встречаются реже медианного значения раз, на категорию 'Rare'"
      ]
    },
    {
      "cell_type": "code",
      "execution_count": null,
      "metadata": {
        "id": "rVxD181sp5CY"
      },
      "outputs": [],
      "source": [
        "df['Make'] = df['Make'].apply(lambda x: 'Rare' if counts[x] < median_count else x)\n",
        "\n"
      ]
    },
    {
      "cell_type": "markdown",
      "source": [],
      "metadata": {
        "id": "g6xWH_JVz_Wg"
      }
    },
    {
      "cell_type": "markdown",
      "metadata": {
        "id": "Gk7BicnosUxR"
      },
      "source": [
        "21. Сохраните датафрейм df в файл, используя метод `.to_csv(path, index)`"
      ]
    },
    {
      "cell_type": "code",
      "execution_count": null,
      "metadata": {
        "id": "09jQVyI6sUxR"
      },
      "outputs": [],
      "source": [
        "df.to_csv(\"cars_moldova_processed.csv\", index= False)"
      ]
    },
    {
      "cell_type": "markdown",
      "metadata": {
        "id": "yuEqGziysUxR"
      },
      "source": [
        "## Бонусные задачи"
      ]
    },
    {
      "cell_type": "markdown",
      "metadata": {
        "id": "Kr3szVBxsUxR"
      },
      "source": [
        "__22*. Какая цена у самой дешевой машины от Toyota с автоматическим типом трансмиссии__"
      ]
    },
    {
      "cell_type": "code",
      "execution_count": null,
      "metadata": {
        "colab": {
          "base_uri": "https://localhost:8080/"
        },
        "id": "fV2BCF8ssUxR",
        "outputId": "79a5f50c-33e0-4b4f-d364-e3b101e14283"
      },
      "outputs": [
        {
          "output_type": "stream",
          "name": "stdout",
          "text": [
            "         Make               Model  Year      Style  Distance  \\\n",
            "32506  Toyota             Corolla  2005  Hatchback  210000.0   \n",
            "2880   Toyota             Corolla  2000  Hatchback     222.0   \n",
            "26994  Toyota               Prius  2007  Hatchback       1.0   \n",
            "25851  Toyota             Corolla  2005  Hatchback  156000.0   \n",
            "31296  Toyota              Celica  2001      Coupe  132000.0   \n",
            "...       ...                 ...   ...        ...       ...   \n",
            "3613   Toyota        Land Cruiser  2018        SUV   38000.0   \n",
            "3668   Toyota        Land Cruiser  2019        SUV   24193.0   \n",
            "24660  Toyota        Land Cruiser  2020        SUV   22000.0   \n",
            "12010  Toyota        Land Cruiser  2019        SUV    2051.0   \n",
            "13131  Toyota  Land Cruiser Prado  2012        SUV   10005.0   \n",
            "\n",
            "       Engine_capacity(cm3) Fuel_type Transmission  Price(euro)  \n",
            "32506                1400.0    Diesel    Automatic        250.0  \n",
            "2880                 2000.0    Petrol    Automatic       1000.0  \n",
            "26994                1400.0    Petrol    Automatic       1250.0  \n",
            "25851                1400.0    Diesel    Automatic       1700.0  \n",
            "31296                1800.0    Petrol    Automatic       2100.0  \n",
            "...                     ...       ...          ...          ...  \n",
            "3613                 4500.0    Diesel    Automatic      67000.0  \n",
            "3668                 4500.0    Diesel    Automatic      67999.0  \n",
            "24660                4500.0    Diesel    Automatic      72999.0  \n",
            "12010                4461.0    Diesel    Automatic      82999.0  \n",
            "13131                3000.0    Diesel    Automatic     200000.0  \n",
            "\n",
            "[1794 rows x 9 columns]\n"
          ]
        }
      ],
      "source": [
        " toyotas = df[(df['Make']  == \"Toyota\")]\n",
        " toyotas_automatic = toyotas[(toyotas['Transmission'] == 'Automatic')]\n",
        " toyotas_automatic = toyotas_automatic.sort_values(by=\"Price(euro)\")\n",
        " to = toyotas_automatic\n",
        " print(to)"
      ]
    },
    {
      "cell_type": "markdown",
      "metadata": {
        "id": "7JQJhZGdsUxS"
      },
      "source": [
        "__23*. Какую пропорцию составляют машины с автоматической трансмиссией среди всех машин производителя Toyota__"
      ]
    },
    {
      "cell_type": "code",
      "execution_count": null,
      "metadata": {
        "id": "4rq4nZ51sUxS"
      },
      "outputs": [],
      "source": [
        "'''ваш код'''"
      ]
    },
    {
      "cell_type": "markdown",
      "metadata": {
        "id": "lfJDZrZ1sUxS"
      },
      "source": [
        "__24*. Найдите среднее и стандартное отклонение для объёма двигателя машин Volkswagen с 2000 по 2010 года__"
      ]
    },
    {
      "cell_type": "code",
      "execution_count": null,
      "metadata": {
        "id": "RzQXyvxlsUxS"
      },
      "outputs": [],
      "source": [
        "'''ваш код'''"
      ]
    },
    {
      "cell_type": "markdown",
      "metadata": {
        "id": "JDlS2gdmsUxS"
      },
      "source": [
        "__25*. Выведите названия всех уникальных моделей машин Mercedes с ручной (Manual) трансмиссией. Посчитайте их количество__"
      ]
    },
    {
      "cell_type": "code",
      "execution_count": null,
      "metadata": {
        "id": "lXjqgdNmsUxT"
      },
      "outputs": [],
      "source": [
        "'''ваш код'''"
      ]
    },
    {
      "cell_type": "markdown",
      "metadata": {
        "id": "f5sABGA_sUxT"
      },
      "source": [
        "__26*. Найдите самый многочисленный и самый малочисленный тип топлива у машин__"
      ]
    },
    {
      "cell_type": "code",
      "execution_count": null,
      "metadata": {
        "id": "8tUFLAXNsUxT"
      },
      "outputs": [],
      "source": [
        "'''ваш код'''"
      ]
    },
    {
      "cell_type": "markdown",
      "metadata": {
        "id": "6_HClremsUxT"
      },
      "source": [
        "__27*. Найдите абсолютную разницу между количеством уникальных моделей автомобилей Renault и Toyota__"
      ]
    },
    {
      "cell_type": "code",
      "execution_count": null,
      "metadata": {
        "id": "CPZnRRpEsUxU"
      },
      "outputs": [],
      "source": [
        "'''ваш код'''"
      ]
    }
  ],
  "metadata": {
    "colab": {
      "provenance": []
    },
    "kernelspec": {
      "display_name": "mlenv",
      "language": "python",
      "name": "python3"
    },
    "language_info": {
      "codemirror_mode": {
        "name": "ipython",
        "version": 3
      },
      "file_extension": ".py",
      "mimetype": "text/x-python",
      "name": "python",
      "nbconvert_exporter": "python",
      "pygments_lexer": "ipython3",
      "version": "3.10.8"
    },
    "toc": {
      "base_numbering": 1,
      "nav_menu": {},
      "number_sections": true,
      "sideBar": true,
      "skip_h1_title": false,
      "title_cell": "Table of Contents",
      "title_sidebar": "Contents",
      "toc_cell": false,
      "toc_position": {
        "height": "calc(100% - 180px)",
        "left": "10px",
        "top": "150px",
        "width": "165px"
      },
      "toc_section_display": true,
      "toc_window_display": true
    }
  },
  "nbformat": 4,
  "nbformat_minor": 0
}